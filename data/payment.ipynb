{
 "cells": [
  {
   "cell_type": "code",
   "execution_count": 5,
   "metadata": {},
   "outputs": [
    {
     "name": "stdout",
     "output_type": "stream",
     "text": [
      "  transactionid userid    movieid     payment           loan_date  \\\n",
      "0        aa0001  cc017  tt9220770       debit 2023-02-24 00:00:00   \n",
      "1        aa0002  cc080  tt1623372  googleplay 2023-02-25 10:07:58   \n",
      "2        aa0003  cc048  tt1458707  googleplay 2023-02-25 20:15:56   \n",
      "3        aa0004  cc046  tt1548083  googleplay 2023-02-26 06:23:54   \n",
      "4        aa0005  cc053  tt2948932       debit 2023-03-01 16:31:52   \n",
      "\n",
      "          return_date  \n",
      "0 2023-03-03 00:00:00  \n",
      "1 2023-03-04 10:07:58  \n",
      "2 2023-03-04 20:15:56  \n",
      "3 2023-03-05 06:23:54  \n",
      "4 2023-03-08 16:31:52  \n"
     ]
    }
   ],
   "source": [
    "import pandas as pd\n",
    "import numpy as np\n",
    "import random\n",
    "from datetime import timedelta\n",
    "\n",
    "# Baca data\n",
    "df = pd.read_csv('D:\\\\KKP\\\\kkp\\\\userhistory2.csv')\n",
    "\n",
    "# Ubah tipe data\n",
    "df['watching_time'] = pd.to_datetime(df['watching_time'])\n",
    "\n",
    "# Buat transactionid dari aa0001 - aa1010\n",
    "df['transactionid'] = [f'aa{str(i).zfill(4)}' for i in range(1, len(df) + 1)]\n",
    "\n",
    "# Payment secara acak\n",
    "payment_methods = ['credit', 'debit', 'googleplay', 'others']\n",
    "df['payment'] = np.random.choice(payment_methods, len(df))\n",
    "\n",
    "# Hitung data untuk kolom loan_date (\n",
    "df['loan_date'] = df['watching_time'] - pd.to_timedelta(np.random.randint(1, 6, size=len(df)), unit='days')\n",
    "\n",
    "# Hitung kolom return_date\n",
    "df['return_date'] = df['loan_date'] + pd.to_timedelta(7, unit='days')\n",
    "\n",
    "# Sesuaikan kolom\n",
    "df_new = df[['transactionid', 'userid', 'movieid', 'payment', 'loan_date', 'return_date']]\n",
    "\n",
    "# Simpan jadi csv\n",
    "df_new.to_csv('D:\\\\KKP\\\\kkp\\\\paymenthistory.csv', index=False)\n",
    "\n",
    "\n",
    "\n"
   ]
  }
 ],
 "metadata": {
  "kernelspec": {
   "display_name": "kkp",
   "language": "python",
   "name": "python3"
  },
  "language_info": {
   "codemirror_mode": {
    "name": "ipython",
    "version": 3
   },
   "file_extension": ".py",
   "mimetype": "text/x-python",
   "name": "python",
   "nbconvert_exporter": "python",
   "pygments_lexer": "ipython3",
   "version": "3.11.5"
  }
 },
 "nbformat": 4,
 "nbformat_minor": 2
}
