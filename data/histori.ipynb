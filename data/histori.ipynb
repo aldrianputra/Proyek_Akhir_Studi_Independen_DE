{
 "cells": [
  {
   "cell_type": "code",
   "execution_count": 1,
   "metadata": {},
   "outputs": [],
   "source": [
    "import pandas as pd\n",
    "import numpy as np\n",
    "import random\n",
    "from unidecode import unidecode\n",
    "\n",
    "# Muat data\n",
    "df = pd.read_csv('D:\\\\Studi Independen\\\\movies.csv', encoding='latin1', quotechar='\"')\n",
    "\n",
    "\n",
    "import pandas as pd\n",
    "import numpy as np\n",
    "import random\n",
    "from unidecode import unidecode\n",
    "\n",
    "# Muat data\n",
    "df = pd.read_csv('D:\\\\Studi Independen\\\\movies.csv', encoding='latin1')\n",
    "\n",
    "# Bersihkan karakter non-ASCII dari kolom 'title'\n",
    "df['title'] = df['title'].apply(lambda x: unidecode(str(x)) if isinstance(x, str) else x)\n",
    "\n",
    "# Ambil sampel 1010 baris dari DataFrame\n",
    "sampled_df = df.sample(n=1010, replace=False, random_state=42)\n",
    "\n",
    "# Buat daftar userid secara acak\n",
    "userid_list = [f'cc{random.randint(1, 100):03}' for _ in range(100)]\n",
    "userid_list = np.random.choice(userid_list, 1010, replace=True).tolist()\n",
    "\n",
    "# Fungsi untuk membuat tanggal terurut acak dalam rentang waktu tertentu\n",
    "def generate_ordered_dates(start, end, n):\n",
    "    dates = [start + (end - start) * i / (n - 1) for i in range(n)]\n",
    "    random.shuffle(dates)\n",
    "    return sorted(dates)\n",
    "\n",
    "# Rentang tanggal untuk kolom watching_time\n",
    "start_date = pd.Timestamp('2023-03-01')\n",
    "end_date = pd.Timestamp('2024-04-30')\n",
    "\n",
    "# Buat tanggal menonton terurut acak\n",
    "watching_times = generate_ordered_dates(start_date, end_date, 1010)\n",
    "\n",
    "# Buat DataFrame baru dengan data sampel dan kolom tambahan\n",
    "random_data = sampled_df.copy()\n",
    "random_data['userid'] = userid_list\n",
    "random_data['watching_time'] = watching_times\n",
    "\n",
    "# Atur urutan kolom agar 'userid' menjadi kolom pertama\n",
    "random_data = random_data[['userid', 'movieid', 'title', 'genre', 'watching_time']]\n",
    "\n",
    "# Simpan data jadi file CSV \n",
    "random_data.to_csv('D:\\\\KKP\\\\kkp\\\\userhistory2.csv', index=False)\n",
    "\n",
    "\n",
    "\n"
   ]
  }
 ],
 "metadata": {
  "kernelspec": {
   "display_name": "kkp",
   "language": "python",
   "name": "python3"
  },
  "language_info": {
   "codemirror_mode": {
    "name": "ipython",
    "version": 3
   },
   "file_extension": ".py",
   "mimetype": "text/x-python",
   "name": "python",
   "nbconvert_exporter": "python",
   "pygments_lexer": "ipython3",
   "version": "3.11.5"
  }
 },
 "nbformat": 4,
 "nbformat_minor": 2
}
